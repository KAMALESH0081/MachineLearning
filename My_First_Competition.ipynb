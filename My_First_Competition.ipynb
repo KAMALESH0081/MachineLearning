{
  "nbformat": 4,
  "nbformat_minor": 0,
  "metadata": {
    "colab": {
      "provenance": [],
      "authorship_tag": "ABX9TyMW5c45z4csFbdXgtvkuzP0",
      "include_colab_link": true
    },
    "kernelspec": {
      "name": "python3",
      "display_name": "Python 3"
    },
    "language_info": {
      "name": "python"
    }
  },
  "cells": [
    {
      "cell_type": "markdown",
      "metadata": {
        "id": "view-in-github",
        "colab_type": "text"
      },
      "source": [
        "<a href=\"https://colab.research.google.com/github/KAMALESH0081/MachineLearning/blob/main/kaggle.ipynb\" target=\"_parent\"><img src=\"https://colab.research.google.com/assets/colab-badge.svg\" alt=\"Open In Colab\"/></a>"
      ]
    },
    {
      "cell_type": "code",
      "execution_count": null,
      "metadata": {
        "colab": {
          "base_uri": "https://localhost:8080/"
        },
        "id": "fzK6DTYpZ-FQ",
        "outputId": "3e43a7d9-ead2-482e-ae7f-dd8386097a96"
      },
      "outputs": [
        {
          "output_type": "stream",
          "name": "stdout",
          "text": [
            "0.7972027972027972\n"
          ]
        }
      ],
      "source": [
        "import pandas as pd\n",
        "from sklearn import preprocessing\n",
        "from sklearn.linear_model import LogisticRegression\n",
        "from sklearn.model_selection import train_test_split\n",
        "from sklearn.metrics import accuracy_score\n",
        "model = LogisticRegression()\n",
        "df = pd.read_csv(\"train.csv\")\n",
        "df = df.drop([\"Cabin\",\"Name\",\"Ticket\",\"PassengerId\"],axis=1)\n",
        "df = df.dropna(subset=[\"Embarked\",\"Age\"])\n",
        "le = preprocessing.LabelEncoder()\n",
        "df[\"Embarked\"] = le.fit_transform(df[\"Embarked\"])\n",
        "df[\"Sex\"] = le.fit_transform(df[\"Sex\"])\n",
        "\n",
        "\n",
        "dh = pd.read_csv(\"test.csv\")\n",
        "dh = dh.drop([\"Cabin\",\"Name\",\"Ticket\",\"PassengerId\"],axis=1)\n",
        "dh = dh.dropna(subset=[\"Embarked\",\"Age\"])\n",
        "le = preprocessing.LabelEncoder()\n",
        "dh[\"Embarked\"] = le.fit_transform(dh[\"Embarked\"])\n",
        "dh[\"Sex\"] = le.fit_transform(dh[\"Sex\"])\n",
        "\n",
        "X = df.drop(\"Survived\",axis=1)\n",
        "Y = df[\"Survived\"]\n",
        "X_train, X_test, Y_train, Y_test = train_test_split(X,Y,test_size=0.2,random_state=42)\n",
        "model.fit(X_train,Y_train)\n",
        "a = model.predict(X_test)\n",
        "print(accuracy_score(a,Y_test))\n",
        "\n",
        "\n",
        "\n"
      ]
    },
    {
      "cell_type": "code",
      "source": [
        "import numpy as np\n",
        "import pandas as pd\n",
        "from sklearn import preprocessing\n",
        "from sklearn.linear_model import LinearRegression\n",
        "from sklearn.linear_model import LogisticRegression\n",
        "from sklearn.model_selection import train_test_split\n",
        "from sklearn.metrics import accuracy_score\n",
        "\n",
        "model = LinearRegression()\n",
        "model1 = LogisticRegression()\n",
        "df = pd.read_csv(\"train.csv\")\n",
        "df1 = pd.read_csv(\"test.csv\")\n",
        "test = df1[\"PassengerId\"]\n",
        "print(df1.isna().sum())\n",
        "\n",
        "df1 = df1.drop([\"Cabin\",\"Name\",\"Ticket\",\"PassengerId\"],axis=1)\n",
        "le = preprocessing.LabelEncoder()\n",
        "df1[\"Embarked\"] = le.fit_transform(df1[\"Embarked\"])\n",
        "df1[\"Sex\"] = le.fit_transform(df1[\"Sex\"])\n",
        "df1 = df1[\"Age\"].fillna(df1[\"Age\"].median(), inplace=True)\n",
        "\n",
        "df[\"Embarked\"] = df[\"Embarked\"].fillna(\"U\")\n",
        "dfn = df[df[\"Age\"].isnull()]\n",
        "dff = df[df[\"Age\"].notnull()]\n",
        "\n",
        "dfn = dfn.drop([\"Cabin\",\"Name\",\"Ticket\",\"PassengerId\"],axis=1)\n",
        "le = preprocessing.LabelEncoder()\n",
        "dfn[\"Embarked\"] = le.fit_transform(dfn[\"Embarked\"])\n",
        "dfn[\"Sex\"] = le.fit_transform(dfn[\"Sex\"])\n",
        "\n",
        "\n",
        "dff = dff.drop([\"Cabin\",\"Name\",\"Ticket\",\"PassengerId\"],axis=1)\n",
        "le = preprocessing.LabelEncoder()\n",
        "dff[\"Embarked\"] = le.fit_transform(dff[\"Embarked\"])\n",
        "dff[\"Sex\"] = le.fit_transform(dff[\"Sex\"])\n",
        "dfn\n",
        "\n",
        "X = dff.drop(\"Age\",axis=1)\n",
        "Y = dff[\"Age\"]\n",
        "Z = dfn.drop(\"Age\",axis=1)\n",
        "\n",
        "model.fit(X,Y)\n",
        "age = model.predict(Z)\n",
        "age = age.astype(int)\n",
        "age = np.abs(age)\n",
        "dfn[\"Age\"] = age\n",
        "merged_df = pd.concat([dff, dfn]).sort_index()\n",
        "X = merged_df.drop(\"Survived\",axis=1)\n",
        "Y = merged_df[\"Survived\"]\n",
        "merged_df.shape\n",
        "X_train, X_test, Y_train, Y_test = train_test_split(X,Y,test_size=0.2,random_state=42)\n",
        "model1.fit(X,Y)\n",
        "a = model1.predict(X_test)\n",
        "#print(accuracy_score(a,Y_test))\n",
        "merged_df.to_csv('C:\\\\Users\\\\Kamal\\\\Downloads\\\\merged_data.csv', index=False)\n"
      ],
      "metadata": {
        "colab": {
          "base_uri": "https://localhost:8080/"
        },
        "id": "29SePzj7iDPk",
        "outputId": "dee656bc-3d9b-4068-f82b-da6cf6a640d9"
      },
      "execution_count": null,
      "outputs": [
        {
          "output_type": "stream",
          "name": "stdout",
          "text": [
            "PassengerId      0\n",
            "Pclass           0\n",
            "Name             0\n",
            "Sex              0\n",
            "Age             86\n",
            "SibSp            0\n",
            "Parch            0\n",
            "Ticket           0\n",
            "Fare             1\n",
            "Cabin          327\n",
            "Embarked         0\n",
            "dtype: int64\n"
          ]
        }
      ]
    },
    {
      "cell_type": "code",
      "source": [
        "'''\n",
        "X_train, X_test, Y_train, Y_test = train_test_split(X,Y,test_size=0.2,random_state=42)\n",
        "model1.fit(X_train,Y_train)\n",
        "a = model1.predict()\n",
        "af = pd.DataFrame({\"PassengerId\":test,\n",
        "                   \"Survived\":a})\n",
        "af.to_csv(\"submission.csv\",index = False)\n",
        "'''"
      ],
      "metadata": {
        "id": "8EB2CryT6tIs"
      },
      "execution_count": null,
      "outputs": []
    },
    {
      "cell_type": "code",
      "source": [
        "import numpy as np\n",
        "import pandas as pd\n",
        "from sklearn import preprocessing\n",
        "from sklearn.linear_model import LinearRegression\n",
        "from sklearn.linear_model import LogisticRegression\n",
        "from sklearn.model_selection import train_test_split\n",
        "from sklearn.metrics import accuracy_score\n",
        "\n",
        "\n",
        "df1 = pd.read_csv(\"test.csv\")\n",
        "\n",
        "test = df1[\"PassengerId\"]\n",
        "df1 = df1.drop([\"Cabin\",\"Name\",\"Ticket\",\"PassengerId\"],axis=1)\n",
        "le = preprocessing.LabelEncoder()\n",
        "df1[\"Embarked\"] = le.fit_transform(df1[\"Embarked\"])\n",
        "df1[\"Sex\"] = le.fit_transform(df1[\"Sex\"])\n",
        "df1[\"Age\"].fillna(df1[\"Age\"].median(), inplace=True)\n",
        "df1[\"Fare\"].fillna(df1[\"Fare\"].median(), inplace=True)\n",
        "\n",
        "df1.to_csv('test1.csv', index=False)\n",
        "\n",
        "\n",
        "\n",
        "\n",
        "\n",
        "\n",
        "\n",
        "\n",
        "\n",
        "\n",
        "\n",
        "\n",
        "\n",
        "\n"
      ],
      "metadata": {
        "id": "5Z8gf_TkFbCA"
      },
      "execution_count": null,
      "outputs": []
    },
    {
      "cell_type": "code",
      "source": [
        "import numpy as np\n",
        "import pandas as pd\n",
        "from sklearn import preprocessing\n",
        "from sklearn.linear_model import LinearRegression\n",
        "from sklearn.linear_model import LogisticRegression\n",
        "from sklearn.model_selection import train_test_split\n",
        "from sklearn.metrics import accuracy_score\n",
        "train1 = pd.read_csv(\"train1.csv\")\n",
        "test1 = pd.read_csv(\"test1.csv\")\n",
        "A = pd.read_csv(\"test.csv\")\n",
        "test = A[\"PassengerId\"]\n",
        "X = train1.drop(\"Survived\",axis=1)\n",
        "Y = train1[\"Survived\"]\n",
        "model = LogisticRegression()\n",
        "model.fit(X,Y)\n",
        "test_pred = model.predict(test1)\n",
        "\n",
        "\n",
        "af = pd.DataFrame({\"PassengerId\":test,\n",
        "                   \"Survived\":test_pred})\n",
        "af.to_csv(\"submission.csv\",index = False)\n",
        "\n",
        "\n",
        "\n",
        "\n",
        "\n",
        "\n",
        "\n"
      ],
      "metadata": {
        "id": "wCWGZe-VK3D7"
      },
      "execution_count": null,
      "outputs": []
    }
  ]
}
