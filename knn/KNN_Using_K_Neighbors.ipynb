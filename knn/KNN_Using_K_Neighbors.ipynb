{
  "nbformat": 4,
  "nbformat_minor": 0,
  "metadata": {
    "colab": {
      "provenance": []
    },
    "kernelspec": {
      "name": "python3",
      "display_name": "Python 3"
    },
    "language_info": {
      "name": "python"
    }
  },
  "cells": [
    {
      "cell_type": "code",
      "source": [
        "import pandas as pd\n",
        "import numpy as np\n",
        "from sklearn.datasets import load_iris\n",
        "\n",
        "class KNNDistanceCalculator:\n",
        "    def __init__(self, k, distance_metric=\"euclidean\"):\n",
        "        self.k = k\n",
        "        self.distance_metric = distance_metric\n",
        "\n",
        "    def fit(self, train_data, train_labels):\n",
        "        self.train_data = train_data\n",
        "        self.train_labels = train_labels\n",
        "\n",
        "    def euclidean_distance(self, row1, row2):\n",
        "        return np.sqrt(np.sum((row1 - row2) ** 2))\n",
        "\n",
        "    def manhattan_distance(self, row1, row2):\n",
        "        return np.sum(np.abs(row1 - row2))\n",
        "\n",
        "    #method to calculate the distance based on the metric chosen\n",
        "    def calculate_distance(self, row1, row2):\n",
        "        if self.distance_metric == \"euclidean\":\n",
        "            return self.euclidean_distance(row1, row2)\n",
        "        elif self.distance_metric == \"manhattan\":\n",
        "            return self.manhattan_distance(row1, row2)\n",
        "        else:\n",
        "            raise ValueError(f\"Unknown distance metric: {self.distance_metric}\")\n",
        "\n",
        "    def calculate_distances(self, test_point):\n",
        "        distances = []\n",
        "        for i in range(len(self.train_data)):\n",
        "            distance = self.calculate_distance(self.train_data.iloc[i].values, test_point.iloc[0].values)\n",
        "            distances.append(distance)\n",
        "        distances_df = pd.DataFrame({\n",
        "            'train_index': self.train_data.index,\n",
        "            'distance': distances,\n",
        "            'species': self.train_labels\n",
        "        })\n",
        "        return distances_df.sort_values(by='distance')\n",
        "\n",
        "    def predict_class(self, test_points):\n",
        "        predictions = []\n",
        "        for index, test_point in test_points.iterrows():\n",
        "            sorted_distances = self.calculate_distances(pd.DataFrame(test_point).T)\n",
        "            nearest_neighbors = sorted_distances.head(self.k)\n",
        "            predicted_class = nearest_neighbors['species'].mode()[0]\n",
        "            predictions.append(predicted_class)\n",
        "        return predictions\n",
        "\n",
        "\n",
        "iris = load_iris()\n",
        "df = pd.DataFrame(data=iris.data, columns=iris.feature_names)\n",
        "df['species'] = iris.target\n",
        "model = KNNDistanceCalculator(k=5, distance_metric=\"euclidean\")\n",
        "model.fit(df.drop('species', axis=1), df['species'])\n",
        "test_points = pd.DataFrame({\n",
        "    'sepal_length': [5.0, 6.0],\n",
        "    'sepal_width': [3.4, 2.7],\n",
        "    'petal_length': [1.5, 4.5],\n",
        "    'petal_width': [0.2, 1.5]\n",
        "    })\n",
        "model.predict_class(test_points)\n",
        "\n",
        "\n"
      ],
      "metadata": {
        "colab": {
          "base_uri": "https://localhost:8080/"
        },
        "id": "oXgEPti3uGfO",
        "outputId": "3ae9e2de-a062-46a5-9535-3e3cdeafc0ab"
      },
      "execution_count": 3,
      "outputs": [
        {
          "output_type": "execute_result",
          "data": {
            "text/plain": [
              "[0, 1]"
            ]
          },
          "metadata": {},
          "execution_count": 3
        }
      ]
    }
  ]
}
