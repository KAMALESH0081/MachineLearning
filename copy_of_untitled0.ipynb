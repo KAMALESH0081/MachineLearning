{
  "nbformat": 4,
  "nbformat_minor": 0,
  "metadata": {
    "colab": {
      "provenance": [],
      "authorship_tag": "ABX9TyOfSZT8SCeBl0OcegqYGEZY",
      "include_colab_link": true
    },
    "kernelspec": {
      "name": "python3",
      "display_name": "Python 3"
    },
    "language_info": {
      "name": "python"
    }
  },
  "cells": [
    {
      "cell_type": "markdown",
      "metadata": {
        "id": "view-in-github",
        "colab_type": "text"
      },
      "source": [
        "<a href=\"https://colab.research.google.com/github/KAMALESH0081/MachineLearning/blob/main/copy_of_untitled0.ipynb\" target=\"_parent\"><img src=\"https://colab.research.google.com/assets/colab-badge.svg\" alt=\"Open In Colab\"/></a>"
      ]
    },
    {
      "cell_type": "code",
      "execution_count": null,
      "metadata": {
        "colab": {
          "base_uri": "https://localhost:8080/",
          "height": 1000
        },
        "id": "MtffD4MrcYJU",
        "outputId": "289f4d02-1702-4072-8e7a-cee9bf301059"
      },
      "outputs": [
        {
          "output_type": "stream",
          "name": "stdout",
          "text": [
            "    Unnamed: 0  YearsExperience    Salary\n",
            "0            0              1.2   39344.0\n",
            "1            1              1.4   46206.0\n",
            "2            2              1.6   37732.0\n",
            "3            3              2.1   43526.0\n",
            "4            4              2.3   39892.0\n",
            "5            5              3.0   56643.0\n",
            "6            6              3.1   60151.0\n",
            "7            7              3.3   54446.0\n",
            "8            8              3.3   64446.0\n",
            "9            9              3.8   57190.0\n",
            "10          10              4.0   63219.0\n",
            "11          11              4.1   55795.0\n",
            "12          12              4.1   56958.0\n",
            "13          13              4.2   57082.0\n",
            "14          14              4.6   61112.0\n",
            "15          15              5.0   67939.0\n",
            "16          16              5.2   66030.0\n",
            "17          17              5.4   83089.0\n",
            "18          18              6.0   81364.0\n",
            "19          19              6.1   93941.0\n",
            "20          20              6.9   91739.0\n",
            "21          21              7.2   98274.0\n",
            "22          22              8.0  101303.0\n",
            "23          23              8.3  113813.0\n",
            "24          24              8.8  109432.0\n",
            "25          25              9.1  105583.0\n",
            "26          26              9.6  116970.0\n",
            "27          27              9.7  112636.0\n",
            "28          28             10.4  122392.0\n",
            "29          29             10.6  121873.0\n",
            "[[ 1.2]\n",
            " [ 1.4]\n",
            " [ 1.6]\n",
            " [ 2.1]\n",
            " [ 2.3]\n",
            " [ 3. ]\n",
            " [ 3.1]\n",
            " [ 3.3]\n",
            " [ 3.3]\n",
            " [ 3.8]\n",
            " [ 4. ]\n",
            " [ 4.1]\n",
            " [ 4.1]\n",
            " [ 4.2]\n",
            " [ 4.6]\n",
            " [ 5. ]\n",
            " [ 5.2]\n",
            " [ 5.4]\n",
            " [ 6. ]\n",
            " [ 6.1]\n",
            " [ 6.9]\n",
            " [ 7.2]\n",
            " [ 8. ]\n",
            " [ 8.3]\n",
            " [ 8.8]\n",
            " [ 9.1]\n",
            " [ 9.6]\n",
            " [ 9.7]\n",
            " [10.4]\n",
            " [10.6]]\n",
            "[ 39344.  46206.  37732.  43526.  39892.  56643.  60151.  54446.  64446.\n",
            "  57190.  63219.  55795.  56958.  57082.  61112.  67939.  66030.  83089.\n",
            "  81364.  93941.  91739.  98274. 101303. 113813. 109432. 105583. 116970.\n",
            " 112636. 122392. 121873.]\n",
            "[75878.00050238 92887.932681   62648.05325234]\n",
            "Mean absolute error = 4389.34\n",
            "Mean squared error = 27111405.04\n",
            "Median absolute error = 5386.07\n",
            "Explain variance acore= 0.96\n",
            "R2 score 0.87\n"
          ]
        },
        {
          "output_type": "display_data",
          "data": {
            "text/plain": [
              "<Figure size 640x480 with 1 Axes>"
            ],
            "image/png": "[encoded data removed]"
          },
          "metadata": {}
        }
      ],
      "source": [
        "import numpy as np\n",
        "\n",
        "import matplotlib.pyplot as plt\n",
        "\n",
        "import pandas as pd\n",
        "\n",
        "import sklearn.metrics as sm\n",
        "\n",
        "from sklearn.linear_model import LinearRegression\n",
        "\n",
        "from sklearn.model_selection import train_test_split\n",
        "\n",
        "df = pd.read_csv(\"archive.zip\")\n",
        "\n",
        "print(df)\n",
        "\n",
        "df.describe()\n",
        "\n",
        "X = df['YearsExperience'].values.reshape(-1,1)\n",
        "\n",
        "Y = df['Salary'].values\n",
        "\n",
        "print(X)\n",
        "print(Y)\n",
        "\n",
        "X_train, X_test, Y_train, Y_test =  train_test_split(X, Y, test_size = 0.1, random_state = 1)\n",
        "\n",
        "model =  LinearRegression()\n",
        "\n",
        "model.fit(X_train, Y_train)\n",
        "\n",
        "Y_pred = model.predict(X_test)\n",
        "\n",
        "Y_predl = model.predict(X.reshape (-1,1))\n",
        "\n",
        "print(Y_pred)\n",
        "\n",
        "print(\"Mean absolute error =\", round(sm.mean_absolute_error(Y_test, Y_pred), 2))\n",
        "print(\"Mean squared error =\", round(sm.mean_squared_error(Y_test, Y_pred), 2))\n",
        "print(\"Median absolute error =\", round(sm.median_absolute_error(Y_test, Y_pred), 2))\n",
        "print(\"Explain variance acore=\", round(sm.explained_variance_score(Y_test, Y_pred), 2))\n",
        "print(\"R2 score\", round(sm.r2_score (Y_test, Y_pred), 2))\n",
        "\n",
        "plt.scatter (X_train, Y_train,color='g')\n",
        "\n",
        "plt.plot(X, Y_predl, color='k')\n",
        "\n",
        "plt.show()"
      ]
    }
  ]
}