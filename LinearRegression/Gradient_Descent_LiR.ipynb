{
  "nbformat": 4,
  "nbformat_minor": 0,
  "metadata": {
    "colab": {
      "provenance": []
    },
    "kernelspec": {
      "name": "python3",
      "display_name": "Python 3"
    },
    "language_info": {
      "name": "python"
    }
  },
  "cells": [
    {
      "cell_type": "code",
      "source": [
        "import numpy as np\n",
        "import pandas as pd\n",
        "\n",
        "class LinearRegressionGradientDescent:\n",
        "    def __init__(self, learning_rate=0.0001, n_iterations=5):\n",
        "        self.learning_rate = learning_rate\n",
        "        self.n_iterations = n_iterations\n",
        "        #self.regularization_strength = regularization_strength\n",
        "        self.weights = None\n",
        "        self.bias = None\n",
        "\n",
        "    def fit(self, X, y):\n",
        "        X_bias = np.c_[np.ones((X.shape[0], 1)), X]\n",
        "\n",
        "        self.weights = np.ones((X_bias.shape[1], 1))\n",
        "        #self.weights = np.random.randn(X_bias.shape[1], 1) * 0.1\n",
        "\n",
        "\n",
        "        for _ in range(1000):\n",
        "            y_pred = X_bias.dot(self.weights)\n",
        "\n",
        "            gradients = 2 * X_bias.T.dot(y_pred - y) / X_bias.shape[0]\n",
        "          #gradients += 2 * self.regularization_strength * self.weights  # L2 regularization\n",
        "\n",
        "            self.weights -= self.learning_rate * gradients\n",
        "\n",
        "        self.bias = self.weights[0]\n",
        "        print(\"BIAS :\",self.bias)\n",
        "\n",
        "        self.weights = self.weights[1:]\n",
        "        print(\"WEIGHTS :\",self.weights)\n",
        "    def predict(self, X):\n",
        "        #X_bias = np.c_[np.ones((X.shape[0], 1)), X]\n",
        "        return X.dot(self.weights) + self.bias\n",
        "\n",
        "\n",
        "if __name__ == \"__main__\":\n",
        "    a = pd.read_csv(\"Salary Data.csv\")\n",
        "    modes = a.mode().iloc[0]\n",
        "    df_filled = a.fillna(modes)\n",
        "    X = df_filled[[\"Age\",\"Years of Experience\"]].values\n",
        "    y = df_filled[\"Salary\"].values.reshape(-1,1)\n",
        "\n",
        "\n",
        "    model = LinearRegressionGradientDescent(learning_rate=0.0001, n_iterations=1000)\n",
        "    model.fit(X, y)\n",
        "    X_new = np.array([[27,2]])\n",
        "    y_pred = model.predict(X_new)\n",
        "    print(\"Predictions:\", y_pred)\n"
      ],
      "metadata": {
        "colab": {
          "base_uri": "https://localhost:8080/"
        },
        "id": "GU1B6wsqjTAr",
        "outputId": "98d85a88-34a9-4da5-c800-cb83adff747e"
      },
      "execution_count": null,
      "outputs": [
        {
          "output_type": "stream",
          "name": "stdout",
          "text": [
            "BIAS : [-171.96812861]\n",
            "WEIGHTS : [[1220.62796776]\n",
            " [5496.00596908]]\n",
            "Predictions: [[43776.99893894]]\n"
          ]
        }
      ]
    }
  ]
}